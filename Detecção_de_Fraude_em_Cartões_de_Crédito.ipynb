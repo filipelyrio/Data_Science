{
  "cells": [
    {
      "cell_type": "markdown",
      "metadata": {
        "id": "Daj4TYBJLI3G"
      },
      "source": [
        "# Detecção de Fraude em Cartões de Crédito\n",
        "\n",
        "  \n",
        "  <center><img alt=\"Analisando Airbnb\" width=\"50%\" src=\"https://olhardigital.com.br/wp-content/uploads/2021/02/shutterstock_223094779.jpg\"></center>\n",
        "  \n",
        "  O número de fraudes envolvendo pagamento com cartões de crédito disparou no país. São aproximadamente 3,6 fraudes por minuto. Além das fraudes cibernéticas, que provocam prejuízos e transtornos para os donos dos cartões, também vêm crescendo os golpes nos quais as vítimas são induzidas pelos criminosos, em geral por contatos telefônicos, a liberar seus dados e, às vezes, entregar os próprios cartões.[1] \n",
        "  \n",
        "  Pesquisa realizada pela TransUnion, companhia internacional de soluções de informação e *insights* de dados, indica que o roubo de identidade on-line, conhecido por *phishing*, é o principal esquema de cibercrime em todo o mundo. No Brasil, o furto de cartões de crédito e cobranças fraudulentas correspondem a 26% das reclamações.[2]\n",
        "\n",
        "  Cada vez mais os Banco e Administradoras de cartões de crédito buscam  soluções para minimizar prejuízos causados por estelionatários. Assim, este trabalho tem como objetivo a construção de um modelo de *machine learning* capaz de prever quando uma operação com cartão de crédito é fraudulenta ou não. Para isso, farei um estudo inicial do conjunto de dados, em seguida um tratamento nos dados e aplicação de 3 modelos com alguns ajustes. Procurei documentar minusciosamente cada passo do projeto.\n",
        "\n",
        "  "
      ]
    },
    {
      "cell_type": "markdown",
      "metadata": {
        "id": "TF6xLQ6VLZGA"
      },
      "source": [
        "## 1 - Importação de *dataset*\n",
        "\n",
        "Para este trabalho, utilizei dados disponibilizados em:\n",
        " https://www.kaggle.com/datasets/mlg-ulb/creditcardfraud/code\n",
        "\n",
        " Este conjunto de dados contém transações efetuadas em Setembro de 2013 (2 dias) pelos titulares europeus de cartões de crédito.\n"
      ]
    },
    {
      "cell_type": "code",
      "execution_count": null,
      "metadata": {
        "id": "lSGTIj57K08n"
      },
      "outputs": [],
      "source": [
        "## Importando bibliotecas necessárias\n",
        "\n",
        "# Manipulação de dataframes\n",
        "import pandas as pd\n",
        "# Visualização de gráficos\n",
        "import seaborn as sns\n",
        "import matplotlib.pyplot as plt\n",
        "# Escalonamento\n",
        "from sklearn.preprocessing import StandardScaler\n",
        "# Separação em dados de treino e teste\n",
        "from sklearn.model_selection import train_test_split\n",
        "# Modelos de Machine Learning\n",
        "from sklearn.linear_model import LogisticRegression\n",
        "from sklearn.ensemble import RandomForestClassifier\n",
        "from sklearn.neighbors import KNeighborsClassifier\n",
        "# Cross Validation\n",
        "from sklearn.model_selection import cross_validate\n",
        "# Oversampling\n",
        "from imblearn.over_sampling import RandomOverSampler\n",
        "# Undersampling\n",
        "from imblearn.under_sampling import RandomUnderSampler\n",
        "# Métricas\n",
        "from sklearn.metrics import accuracy_score, confusion_matrix, classification_report\n",
        "# Ajuste de hiperprâmetros\n",
        "from sklearn.model_selection import GridSearchCV\n",
        "\n",
        "# Visualizar todas as colunas do dataset\n",
        "pd.set_option('display.max_columns', None)"
      ]
    },
    {
      "cell_type": "code",
      "execution_count": null,
      "metadata": {
        "id": "Gs5-t_HYZ9Ae"
      },
      "outputs": [],
      "source": [
        "# Carregando dataset\n",
        "arquivo = '/content/creditcard.csv.zip'\n",
        "df = pd.read_csv(arquivo)"
      ]
    },
    {
      "cell_type": "markdown",
      "metadata": {
        "id": "AFwF1JwTv5aB"
      },
      "source": [
        "## 2 - Explorando os dados"
      ]
    },
    {
      "cell_type": "code",
      "execution_count": null,
      "metadata": {
        "colab": {
          "base_uri": "https://localhost:8080/",
          "height": 270
        },
        "id": "9LTv1cU6djd1",
        "outputId": "2d0d607a-5000-44f3-fdd5-a212eabc42ac"
      },
      "outputs": [
        {
          "data": {
            "text/html": [
              "\n",
              "  <div id=\"df-b450a4fe-6959-44bd-b8b6-29a5f1651fcf\">\n",
              "    <div class=\"colab-df-container\">\n",
              "      <div>\n",
              "<style scoped>\n",
              "    .dataframe tbody tr th:only-of-type {\n",
              "        vertical-align: middle;\n",
              "    }\n",
              "\n",
              "    .dataframe tbody tr th {\n",
              "        vertical-align: top;\n",
              "    }\n",
              "\n",
              "    .dataframe thead th {\n",
              "        text-align: right;\n",
              "    }\n",
              "</style>\n",
              "<table border=\"1\" class=\"dataframe\">\n",
              "  <thead>\n",
              "    <tr style=\"text-align: right;\">\n",
              "      <th></th>\n",
              "      <th>Time</th>\n",
              "      <th>V1</th>\n",
              "      <th>V2</th>\n",
              "      <th>V3</th>\n",
              "      <th>V4</th>\n",
              "      <th>V5</th>\n",
              "      <th>V6</th>\n",
              "      <th>V7</th>\n",
              "      <th>V8</th>\n",
              "      <th>V9</th>\n",
              "      <th>V10</th>\n",
              "      <th>V11</th>\n",
              "      <th>V12</th>\n",
              "      <th>V13</th>\n",
              "      <th>V14</th>\n",
              "      <th>V15</th>\n",
              "      <th>V16</th>\n",
              "      <th>V17</th>\n",
              "      <th>V18</th>\n",
              "      <th>V19</th>\n",
              "      <th>V20</th>\n",
              "      <th>V21</th>\n",
              "      <th>V22</th>\n",
              "      <th>V23</th>\n",
              "      <th>V24</th>\n",
              "      <th>V25</th>\n",
              "      <th>V26</th>\n",
              "      <th>V27</th>\n",
              "      <th>V28</th>\n",
              "      <th>Amount</th>\n",
              "      <th>Class</th>\n",
              "    </tr>\n",
              "  </thead>\n",
              "  <tbody>\n",
              "    <tr>\n",
              "      <th>0</th>\n",
              "      <td>0.0</td>\n",
              "      <td>-1.359807</td>\n",
              "      <td>-0.072781</td>\n",
              "      <td>2.536347</td>\n",
              "      <td>1.378155</td>\n",
              "      <td>-0.338321</td>\n",
              "      <td>0.462388</td>\n",
              "      <td>0.239599</td>\n",
              "      <td>0.098698</td>\n",
              "      <td>0.363787</td>\n",
              "      <td>0.090794</td>\n",
              "      <td>-0.551600</td>\n",
              "      <td>-0.617801</td>\n",
              "      <td>-0.991390</td>\n",
              "      <td>-0.311169</td>\n",
              "      <td>1.468177</td>\n",
              "      <td>-0.470401</td>\n",
              "      <td>0.207971</td>\n",
              "      <td>0.025791</td>\n",
              "      <td>0.403993</td>\n",
              "      <td>0.251412</td>\n",
              "      <td>-0.018307</td>\n",
              "      <td>0.277838</td>\n",
              "      <td>-0.110474</td>\n",
              "      <td>0.066928</td>\n",
              "      <td>0.128539</td>\n",
              "      <td>-0.189115</td>\n",
              "      <td>0.133558</td>\n",
              "      <td>-0.021053</td>\n",
              "      <td>149.62</td>\n",
              "      <td>0</td>\n",
              "    </tr>\n",
              "    <tr>\n",
              "      <th>1</th>\n",
              "      <td>0.0</td>\n",
              "      <td>1.191857</td>\n",
              "      <td>0.266151</td>\n",
              "      <td>0.166480</td>\n",
              "      <td>0.448154</td>\n",
              "      <td>0.060018</td>\n",
              "      <td>-0.082361</td>\n",
              "      <td>-0.078803</td>\n",
              "      <td>0.085102</td>\n",
              "      <td>-0.255425</td>\n",
              "      <td>-0.166974</td>\n",
              "      <td>1.612727</td>\n",
              "      <td>1.065235</td>\n",
              "      <td>0.489095</td>\n",
              "      <td>-0.143772</td>\n",
              "      <td>0.635558</td>\n",
              "      <td>0.463917</td>\n",
              "      <td>-0.114805</td>\n",
              "      <td>-0.183361</td>\n",
              "      <td>-0.145783</td>\n",
              "      <td>-0.069083</td>\n",
              "      <td>-0.225775</td>\n",
              "      <td>-0.638672</td>\n",
              "      <td>0.101288</td>\n",
              "      <td>-0.339846</td>\n",
              "      <td>0.167170</td>\n",
              "      <td>0.125895</td>\n",
              "      <td>-0.008983</td>\n",
              "      <td>0.014724</td>\n",
              "      <td>2.69</td>\n",
              "      <td>0</td>\n",
              "    </tr>\n",
              "    <tr>\n",
              "      <th>2</th>\n",
              "      <td>1.0</td>\n",
              "      <td>-1.358354</td>\n",
              "      <td>-1.340163</td>\n",
              "      <td>1.773209</td>\n",
              "      <td>0.379780</td>\n",
              "      <td>-0.503198</td>\n",
              "      <td>1.800499</td>\n",
              "      <td>0.791461</td>\n",
              "      <td>0.247676</td>\n",
              "      <td>-1.514654</td>\n",
              "      <td>0.207643</td>\n",
              "      <td>0.624501</td>\n",
              "      <td>0.066084</td>\n",
              "      <td>0.717293</td>\n",
              "      <td>-0.165946</td>\n",
              "      <td>2.345865</td>\n",
              "      <td>-2.890083</td>\n",
              "      <td>1.109969</td>\n",
              "      <td>-0.121359</td>\n",
              "      <td>-2.261857</td>\n",
              "      <td>0.524980</td>\n",
              "      <td>0.247998</td>\n",
              "      <td>0.771679</td>\n",
              "      <td>0.909412</td>\n",
              "      <td>-0.689281</td>\n",
              "      <td>-0.327642</td>\n",
              "      <td>-0.139097</td>\n",
              "      <td>-0.055353</td>\n",
              "      <td>-0.059752</td>\n",
              "      <td>378.66</td>\n",
              "      <td>0</td>\n",
              "    </tr>\n",
              "    <tr>\n",
              "      <th>3</th>\n",
              "      <td>1.0</td>\n",
              "      <td>-0.966272</td>\n",
              "      <td>-0.185226</td>\n",
              "      <td>1.792993</td>\n",
              "      <td>-0.863291</td>\n",
              "      <td>-0.010309</td>\n",
              "      <td>1.247203</td>\n",
              "      <td>0.237609</td>\n",
              "      <td>0.377436</td>\n",
              "      <td>-1.387024</td>\n",
              "      <td>-0.054952</td>\n",
              "      <td>-0.226487</td>\n",
              "      <td>0.178228</td>\n",
              "      <td>0.507757</td>\n",
              "      <td>-0.287924</td>\n",
              "      <td>-0.631418</td>\n",
              "      <td>-1.059647</td>\n",
              "      <td>-0.684093</td>\n",
              "      <td>1.965775</td>\n",
              "      <td>-1.232622</td>\n",
              "      <td>-0.208038</td>\n",
              "      <td>-0.108300</td>\n",
              "      <td>0.005274</td>\n",
              "      <td>-0.190321</td>\n",
              "      <td>-1.175575</td>\n",
              "      <td>0.647376</td>\n",
              "      <td>-0.221929</td>\n",
              "      <td>0.062723</td>\n",
              "      <td>0.061458</td>\n",
              "      <td>123.50</td>\n",
              "      <td>0</td>\n",
              "    </tr>\n",
              "    <tr>\n",
              "      <th>4</th>\n",
              "      <td>2.0</td>\n",
              "      <td>-1.158233</td>\n",
              "      <td>0.877737</td>\n",
              "      <td>1.548718</td>\n",
              "      <td>0.403034</td>\n",
              "      <td>-0.407193</td>\n",
              "      <td>0.095921</td>\n",
              "      <td>0.592941</td>\n",
              "      <td>-0.270533</td>\n",
              "      <td>0.817739</td>\n",
              "      <td>0.753074</td>\n",
              "      <td>-0.822843</td>\n",
              "      <td>0.538196</td>\n",
              "      <td>1.345852</td>\n",
              "      <td>-1.119670</td>\n",
              "      <td>0.175121</td>\n",
              "      <td>-0.451449</td>\n",
              "      <td>-0.237033</td>\n",
              "      <td>-0.038195</td>\n",
              "      <td>0.803487</td>\n",
              "      <td>0.408542</td>\n",
              "      <td>-0.009431</td>\n",
              "      <td>0.798278</td>\n",
              "      <td>-0.137458</td>\n",
              "      <td>0.141267</td>\n",
              "      <td>-0.206010</td>\n",
              "      <td>0.502292</td>\n",
              "      <td>0.219422</td>\n",
              "      <td>0.215153</td>\n",
              "      <td>69.99</td>\n",
              "      <td>0</td>\n",
              "    </tr>\n",
              "  </tbody>\n",
              "</table>\n",
              "</div>\n",
              "      <button class=\"colab-df-convert\" onclick=\"convertToInteractive('df-b450a4fe-6959-44bd-b8b6-29a5f1651fcf')\"\n",
              "              title=\"Convert this dataframe to an interactive table.\"\n",
              "              style=\"display:none;\">\n",
              "        \n",
              "  <svg xmlns=\"http://www.w3.org/2000/svg\" height=\"24px\"viewBox=\"0 0 24 24\"\n",
              "       width=\"24px\">\n",
              "    <path d=\"M0 0h24v24H0V0z\" fill=\"none\"/>\n",
              "    <path d=\"M18.56 5.44l.94 2.06.94-2.06 2.06-.94-2.06-.94-.94-2.06-.94 2.06-2.06.94zm-11 1L8.5 8.5l.94-2.06 2.06-.94-2.06-.94L8.5 2.5l-.94 2.06-2.06.94zm10 10l.94 2.06.94-2.06 2.06-.94-2.06-.94-.94-2.06-.94 2.06-2.06.94z\"/><path d=\"M17.41 7.96l-1.37-1.37c-.4-.4-.92-.59-1.43-.59-.52 0-1.04.2-1.43.59L10.3 9.45l-7.72 7.72c-.78.78-.78 2.05 0 2.83L4 21.41c.39.39.9.59 1.41.59.51 0 1.02-.2 1.41-.59l7.78-7.78 2.81-2.81c.8-.78.8-2.07 0-2.86zM5.41 20L4 18.59l7.72-7.72 1.47 1.35L5.41 20z\"/>\n",
              "  </svg>\n",
              "      </button>\n",
              "      \n",
              "  <style>\n",
              "    .colab-df-container {\n",
              "      display:flex;\n",
              "      flex-wrap:wrap;\n",
              "      gap: 12px;\n",
              "    }\n",
              "\n",
              "    .colab-df-convert {\n",
              "      background-color: #E8F0FE;\n",
              "      border: none;\n",
              "      border-radius: 50%;\n",
              "      cursor: pointer;\n",
              "      display: none;\n",
              "      fill: #1967D2;\n",
              "      height: 32px;\n",
              "      padding: 0 0 0 0;\n",
              "      width: 32px;\n",
              "    }\n",
              "\n",
              "    .colab-df-convert:hover {\n",
              "      background-color: #E2EBFA;\n",
              "      box-shadow: 0px 1px 2px rgba(60, 64, 67, 0.3), 0px 1px 3px 1px rgba(60, 64, 67, 0.15);\n",
              "      fill: #174EA6;\n",
              "    }\n",
              "\n",
              "    [theme=dark] .colab-df-convert {\n",
              "      background-color: #3B4455;\n",
              "      fill: #D2E3FC;\n",
              "    }\n",
              "\n",
              "    [theme=dark] .colab-df-convert:hover {\n",
              "      background-color: #434B5C;\n",
              "      box-shadow: 0px 1px 3px 1px rgba(0, 0, 0, 0.15);\n",
              "      filter: drop-shadow(0px 1px 2px rgba(0, 0, 0, 0.3));\n",
              "      fill: #FFFFFF;\n",
              "    }\n",
              "  </style>\n",
              "\n",
              "      <script>\n",
              "        const buttonEl =\n",
              "          document.querySelector('#df-b450a4fe-6959-44bd-b8b6-29a5f1651fcf button.colab-df-convert');\n",
              "        buttonEl.style.display =\n",
              "          google.colab.kernel.accessAllowed ? 'block' : 'none';\n",
              "\n",
              "        async function convertToInteractive(key) {\n",
              "          const element = document.querySelector('#df-b450a4fe-6959-44bd-b8b6-29a5f1651fcf');\n",
              "          const dataTable =\n",
              "            await google.colab.kernel.invokeFunction('convertToInteractive',\n",
              "                                                     [key], {});\n",
              "          if (!dataTable) return;\n",
              "\n",
              "          const docLinkHtml = 'Like what you see? Visit the ' +\n",
              "            '<a target=\"_blank\" href=https://colab.research.google.com/notebooks/data_table.ipynb>data table notebook</a>'\n",
              "            + ' to learn more about interactive tables.';\n",
              "          element.innerHTML = '';\n",
              "          dataTable['output_type'] = 'display_data';\n",
              "          await google.colab.output.renderOutput(dataTable, element);\n",
              "          const docLink = document.createElement('div');\n",
              "          docLink.innerHTML = docLinkHtml;\n",
              "          element.appendChild(docLink);\n",
              "        }\n",
              "      </script>\n",
              "    </div>\n",
              "  </div>\n",
              "  "
            ],
            "text/plain": [
              "   Time        V1        V2        V3        V4        V5        V6        V7  \\\n",
              "0   0.0 -1.359807 -0.072781  2.536347  1.378155 -0.338321  0.462388  0.239599   \n",
              "1   0.0  1.191857  0.266151  0.166480  0.448154  0.060018 -0.082361 -0.078803   \n",
              "2   1.0 -1.358354 -1.340163  1.773209  0.379780 -0.503198  1.800499  0.791461   \n",
              "3   1.0 -0.966272 -0.185226  1.792993 -0.863291 -0.010309  1.247203  0.237609   \n",
              "4   2.0 -1.158233  0.877737  1.548718  0.403034 -0.407193  0.095921  0.592941   \n",
              "\n",
              "         V8        V9       V10       V11       V12       V13       V14  \\\n",
              "0  0.098698  0.363787  0.090794 -0.551600 -0.617801 -0.991390 -0.311169   \n",
              "1  0.085102 -0.255425 -0.166974  1.612727  1.065235  0.489095 -0.143772   \n",
              "2  0.247676 -1.514654  0.207643  0.624501  0.066084  0.717293 -0.165946   \n",
              "3  0.377436 -1.387024 -0.054952 -0.226487  0.178228  0.507757 -0.287924   \n",
              "4 -0.270533  0.817739  0.753074 -0.822843  0.538196  1.345852 -1.119670   \n",
              "\n",
              "        V15       V16       V17       V18       V19       V20       V21  \\\n",
              "0  1.468177 -0.470401  0.207971  0.025791  0.403993  0.251412 -0.018307   \n",
              "1  0.635558  0.463917 -0.114805 -0.183361 -0.145783 -0.069083 -0.225775   \n",
              "2  2.345865 -2.890083  1.109969 -0.121359 -2.261857  0.524980  0.247998   \n",
              "3 -0.631418 -1.059647 -0.684093  1.965775 -1.232622 -0.208038 -0.108300   \n",
              "4  0.175121 -0.451449 -0.237033 -0.038195  0.803487  0.408542 -0.009431   \n",
              "\n",
              "        V22       V23       V24       V25       V26       V27       V28  \\\n",
              "0  0.277838 -0.110474  0.066928  0.128539 -0.189115  0.133558 -0.021053   \n",
              "1 -0.638672  0.101288 -0.339846  0.167170  0.125895 -0.008983  0.014724   \n",
              "2  0.771679  0.909412 -0.689281 -0.327642 -0.139097 -0.055353 -0.059752   \n",
              "3  0.005274 -0.190321 -1.175575  0.647376 -0.221929  0.062723  0.061458   \n",
              "4  0.798278 -0.137458  0.141267 -0.206010  0.502292  0.219422  0.215153   \n",
              "\n",
              "   Amount  Class  \n",
              "0  149.62      0  \n",
              "1    2.69      0  \n",
              "2  378.66      0  \n",
              "3  123.50      0  \n",
              "4   69.99      0  "
            ]
          },
          "execution_count": 5,
          "metadata": {},
          "output_type": "execute_result"
        }
      ],
      "source": [
        "# Verificando primeiros registros\n",
        "df.head()"
      ]
    },
    {
      "cell_type": "markdown",
      "metadata": {
        "id": "eSE4yV7md2Vs"
      },
      "source": [
        " O *dataset* contém apenas variáveis de entrada numéricas. As variáveis V1 a V28 são o resultado de uma transformação **PCA (Análise de Componentes Principais)**. Esta técnica serve para converter um conjunto de observações de variáveis possivelmente correlacionadas num conjunto de valores de variáveis linearmente não correlacionadas chamadas de componentes principais[3], com isso diminui o número de variáveis envolvidas no processo e sua complexidade. Como efeito, perde-se o significado real de cada variável (impossível explicar o que cada uma representa), porém mantém-se a informação para uso nos algorítmos de *machine learning*.\n",
        " \n",
        " Devido a questões de confidencialidade, não foram fornecidas mais informações sobre o *dataset*. As únicas características que não foram transformadas pelo PCA são **'Time'** e **'Amount'**. \n",
        " \n",
        " A característica **'Time'** representa os segundos decorridos entre cada transação e a primeira transação no conjunto de dados. A característica **'Amount'** é o montante da transação. A característica **'Class'** é a variável de resposta e toma valor 1 em caso de fraude e 0 em caso contrário.\n"
      ]
    },
    {
      "cell_type": "code",
      "execution_count": null,
      "metadata": {
        "colab": {
          "base_uri": "https://localhost:8080/"
        },
        "id": "wUu_x8Dadmg9",
        "outputId": "2efdf3d4-2a32-461b-f07c-1f9a06290e63"
      },
      "outputs": [
        {
          "name": "stdout",
          "output_type": "stream",
          "text": [
            "Este dataset possui 284807 registros e 31 colunas\n"
          ]
        }
      ],
      "source": [
        "# Verificando tamanho do dataset\n",
        "print(f'Este dataset possui {df.shape[0]} registros e {df.shape[1]} colunas')"
      ]
    },
    {
      "cell_type": "code",
      "execution_count": null,
      "metadata": {
        "colab": {
          "base_uri": "https://localhost:8080/"
        },
        "id": "YLRVT0SwgiLf",
        "outputId": "90d0dc36-d9ea-4ab0-ebee-c1c68f6f7723"
      },
      "outputs": [
        {
          "data": {
            "text/plain": [
              "Time      0\n",
              "V1        0\n",
              "V2        0\n",
              "V3        0\n",
              "V4        0\n",
              "V5        0\n",
              "V6        0\n",
              "V7        0\n",
              "V8        0\n",
              "V9        0\n",
              "V10       0\n",
              "V11       0\n",
              "V12       0\n",
              "V13       0\n",
              "V14       0\n",
              "V15       0\n",
              "V16       0\n",
              "V17       0\n",
              "V18       0\n",
              "V19       0\n",
              "V20       0\n",
              "V21       0\n",
              "V22       0\n",
              "V23       0\n",
              "V24       0\n",
              "V25       0\n",
              "V26       0\n",
              "V27       0\n",
              "V28       0\n",
              "Amount    0\n",
              "Class     0\n",
              "dtype: int64"
            ]
          },
          "execution_count": 7,
          "metadata": {},
          "output_type": "execute_result"
        }
      ],
      "source": [
        "# Verificando valores nulos\n",
        "df.isnull().sum()"
      ]
    },
    {
      "cell_type": "markdown",
      "metadata": {
        "id": "QheDHkeFgpRO"
      },
      "source": [
        "Não há, portanto, valores nulos ou faltantes no conjunto de dados. Seguimos agora com uma verificação sobre a variável objetivo."
      ]
    },
    {
      "cell_type": "code",
      "execution_count": null,
      "metadata": {
        "colab": {
          "base_uri": "https://localhost:8080/"
        },
        "id": "NPHNVNkWgr6U",
        "outputId": "eb07af86-1ed2-4609-d116-dde6cff90c96"
      },
      "outputs": [
        {
          "data": {
            "text/plain": [
              "0    284315\n",
              "1       492\n",
              "Name: Class, dtype: int64"
            ]
          },
          "execution_count": 8,
          "metadata": {},
          "output_type": "execute_result"
        }
      ],
      "source": [
        "# Verificação da coluna Class\n",
        "df.Class.value_counts()"
      ]
    },
    {
      "cell_type": "code",
      "execution_count": null,
      "metadata": {
        "colab": {
          "base_uri": "https://localhost:8080/",
          "height": 334
        },
        "id": "HNPFpCJlhVUf",
        "outputId": "f4c65a2f-fe7f-4ed0-e255-379b6437b844"
      },
      "outputs": [
        {
          "data": {
            "image/png": "[encoded data removed]",
            "text/plain": [
              "<Figure size 576x360 with 1 Axes>"
            ]
          },
          "metadata": {},
          "output_type": "display_data"
        }
      ],
      "source": [
        "plt.figure(figsize=(8,5))\n",
        "_= sns.countplot(x='Class', data = df, log=True)\n",
        "# Utilizando base logarítimica para melhor visualização"
      ]
    },
    {
      "cell_type": "markdown",
      "metadata": {
        "id": "sNY0EXfmg87J"
      },
      "source": [
        "Verifica-se um enorme desbalanceamento na variável **Class**. Para melhor performance do algorítmo de *machine learning* usaremos técnicas para balanceamento dos dados."
      ]
    },
    {
      "cell_type": "code",
      "execution_count": null,
      "metadata": {
        "colab": {
          "base_uri": "https://localhost:8080/",
          "height": 1000
        },
        "id": "9GufSYLmpx5C",
        "outputId": "ebc6d4b2-8004-42a3-8567-fc4a86884106"
      },
      "outputs": [
        {
          "data": {
            "text/plain": [
              "<matplotlib.axes._subplots.AxesSubplot at 0x7f8e3844bf10>"
            ]
          },
          "execution_count": 11,
          "metadata": {},
          "output_type": "execute_result"
        },
        {
          "data": {
            "image/png": "[encoded data removed]",
            "text/plain": [
              "<Figure size 1440x1440 with 2 Axes>"
            ]
          },
          "metadata": {},
          "output_type": "display_data"
        }
      ],
      "source": [
        "# Verificando correlação entre atributos\n",
        "plt.figure(figsize=(20,20))\n",
        "sns.heatmap(round(df.corr(),2), annot=True)"
      ]
    },
    {
      "cell_type": "markdown",
      "source": [
        "Como o *dataset* passou pelo processo de **PCA**, era de se esperar que não houvesse forte corelação entre as variáveis independentes. Vamos aqui verificar a correlação delas com a variável alvo."
      ],
      "metadata": {
        "id": "2gJFZazdp7yZ"
      }
    },
    {
      "cell_type": "code",
      "execution_count": null,
      "metadata": {
        "colab": {
          "base_uri": "https://localhost:8080/",
          "height": 990
        },
        "id": "-YcKqxKaqFed",
        "outputId": "edf96c1f-274a-4b5a-c002-679cbfea7b0c"
      },
      "outputs": [
        {
          "data": {
            "text/html": [
              "\n",
              "  <div id=\"df-f1923cb4-82fe-4510-92f6-36d93419af50\">\n",
              "    <div class=\"colab-df-container\">\n",
              "      <div>\n",
              "<style scoped>\n",
              "    .dataframe tbody tr th:only-of-type {\n",
              "        vertical-align: middle;\n",
              "    }\n",
              "\n",
              "    .dataframe tbody tr th {\n",
              "        vertical-align: top;\n",
              "    }\n",
              "\n",
              "    .dataframe thead th {\n",
              "        text-align: right;\n",
              "    }\n",
              "</style>\n",
              "<table border=\"1\" class=\"dataframe\">\n",
              "  <thead>\n",
              "    <tr style=\"text-align: right;\">\n",
              "      <th></th>\n",
              "      <th>Class</th>\n",
              "    </tr>\n",
              "  </thead>\n",
              "  <tbody>\n",
              "    <tr>\n",
              "      <th>V17</th>\n",
              "      <td>-0.326481</td>\n",
              "    </tr>\n",
              "    <tr>\n",
              "      <th>V14</th>\n",
              "      <td>-0.302544</td>\n",
              "    </tr>\n",
              "    <tr>\n",
              "      <th>V12</th>\n",
              "      <td>-0.260593</td>\n",
              "    </tr>\n",
              "    <tr>\n",
              "      <th>V10</th>\n",
              "      <td>-0.216883</td>\n",
              "    </tr>\n",
              "    <tr>\n",
              "      <th>V16</th>\n",
              "      <td>-0.196539</td>\n",
              "    </tr>\n",
              "    <tr>\n",
              "      <th>V3</th>\n",
              "      <td>-0.192961</td>\n",
              "    </tr>\n",
              "    <tr>\n",
              "      <th>V7</th>\n",
              "      <td>-0.187257</td>\n",
              "    </tr>\n",
              "    <tr>\n",
              "      <th>V18</th>\n",
              "      <td>-0.111485</td>\n",
              "    </tr>\n",
              "    <tr>\n",
              "      <th>V1</th>\n",
              "      <td>-0.101347</td>\n",
              "    </tr>\n",
              "    <tr>\n",
              "      <th>V9</th>\n",
              "      <td>-0.097733</td>\n",
              "    </tr>\n",
              "    <tr>\n",
              "      <th>V5</th>\n",
              "      <td>-0.094974</td>\n",
              "    </tr>\n",
              "    <tr>\n",
              "      <th>V6</th>\n",
              "      <td>-0.043643</td>\n",
              "    </tr>\n",
              "    <tr>\n",
              "      <th>Time</th>\n",
              "      <td>-0.012323</td>\n",
              "    </tr>\n",
              "    <tr>\n",
              "      <th>V24</th>\n",
              "      <td>-0.007221</td>\n",
              "    </tr>\n",
              "    <tr>\n",
              "      <th>V13</th>\n",
              "      <td>-0.004570</td>\n",
              "    </tr>\n",
              "    <tr>\n",
              "      <th>V15</th>\n",
              "      <td>-0.004223</td>\n",
              "    </tr>\n",
              "    <tr>\n",
              "      <th>V23</th>\n",
              "      <td>-0.002685</td>\n",
              "    </tr>\n",
              "    <tr>\n",
              "      <th>V22</th>\n",
              "      <td>0.000805</td>\n",
              "    </tr>\n",
              "    <tr>\n",
              "      <th>V25</th>\n",
              "      <td>0.003308</td>\n",
              "    </tr>\n",
              "    <tr>\n",
              "      <th>V26</th>\n",
              "      <td>0.004455</td>\n",
              "    </tr>\n",
              "    <tr>\n",
              "      <th>Amount</th>\n",
              "      <td>0.005632</td>\n",
              "    </tr>\n",
              "    <tr>\n",
              "      <th>V28</th>\n",
              "      <td>0.009536</td>\n",
              "    </tr>\n",
              "    <tr>\n",
              "      <th>V27</th>\n",
              "      <td>0.017580</td>\n",
              "    </tr>\n",
              "    <tr>\n",
              "      <th>V8</th>\n",
              "      <td>0.019875</td>\n",
              "    </tr>\n",
              "    <tr>\n",
              "      <th>V20</th>\n",
              "      <td>0.020090</td>\n",
              "    </tr>\n",
              "    <tr>\n",
              "      <th>V19</th>\n",
              "      <td>0.034783</td>\n",
              "    </tr>\n",
              "    <tr>\n",
              "      <th>V21</th>\n",
              "      <td>0.040413</td>\n",
              "    </tr>\n",
              "    <tr>\n",
              "      <th>V2</th>\n",
              "      <td>0.091289</td>\n",
              "    </tr>\n",
              "    <tr>\n",
              "      <th>V4</th>\n",
              "      <td>0.133447</td>\n",
              "    </tr>\n",
              "    <tr>\n",
              "      <th>V11</th>\n",
              "      <td>0.154876</td>\n",
              "    </tr>\n",
              "  </tbody>\n",
              "</table>\n",
              "</div>\n",
              "      <button class=\"colab-df-convert\" onclick=\"convertToInteractive('df-f1923cb4-82fe-4510-92f6-36d93419af50')\"\n",
              "              title=\"Convert this dataframe to an interactive table.\"\n",
              "              style=\"display:none;\">\n",
              "        \n",
              "  <svg xmlns=\"http://www.w3.org/2000/svg\" height=\"24px\"viewBox=\"0 0 24 24\"\n",
              "       width=\"24px\">\n",
              "    <path d=\"M0 0h24v24H0V0z\" fill=\"none\"/>\n",
              "    <path d=\"M18.56 5.44l.94 2.06.94-2.06 2.06-.94-2.06-.94-.94-2.06-.94 2.06-2.06.94zm-11 1L8.5 8.5l.94-2.06 2.06-.94-2.06-.94L8.5 2.5l-.94 2.06-2.06.94zm10 10l.94 2.06.94-2.06 2.06-.94-2.06-.94-.94-2.06-.94 2.06-2.06.94z\"/><path d=\"M17.41 7.96l-1.37-1.37c-.4-.4-.92-.59-1.43-.59-.52 0-1.04.2-1.43.59L10.3 9.45l-7.72 7.72c-.78.78-.78 2.05 0 2.83L4 21.41c.39.39.9.59 1.41.59.51 0 1.02-.2 1.41-.59l7.78-7.78 2.81-2.81c.8-.78.8-2.07 0-2.86zM5.41 20L4 18.59l7.72-7.72 1.47 1.35L5.41 20z\"/>\n",
              "  </svg>\n",
              "      </button>\n",
              "      \n",
              "  <style>\n",
              "    .colab-df-container {\n",
              "      display:flex;\n",
              "      flex-wrap:wrap;\n",
              "      gap: 12px;\n",
              "    }\n",
              "\n",
              "    .colab-df-convert {\n",
              "      background-color: #E8F0FE;\n",
              "      border: none;\n",
              "      border-radius: 50%;\n",
              "      cursor: pointer;\n",
              "      display: none;\n",
              "      fill: #1967D2;\n",
              "      height: 32px;\n",
              "      padding: 0 0 0 0;\n",
              "      width: 32px;\n",
              "    }\n",
              "\n",
              "    .colab-df-convert:hover {\n",
              "      background-color: #E2EBFA;\n",
              "      box-shadow: 0px 1px 2px rgba(60, 64, 67, 0.3), 0px 1px 3px 1px rgba(60, 64, 67, 0.15);\n",
              "      fill: #174EA6;\n",
              "    }\n",
              "\n",
              "    [theme=dark] .colab-df-convert {\n",
              "      background-color: #3B4455;\n",
              "      fill: #D2E3FC;\n",
              "    }\n",
              "\n",
              "    [theme=dark] .colab-df-convert:hover {\n",
              "      background-color: #434B5C;\n",
              "      box-shadow: 0px 1px 3px 1px rgba(0, 0, 0, 0.15);\n",
              "      filter: drop-shadow(0px 1px 2px rgba(0, 0, 0, 0.3));\n",
              "      fill: #FFFFFF;\n",
              "    }\n",
              "  </style>\n",
              "\n",
              "      <script>\n",
              "        const buttonEl =\n",
              "          document.querySelector('#df-f1923cb4-82fe-4510-92f6-36d93419af50 button.colab-df-convert');\n",
              "        buttonEl.style.display =\n",
              "          google.colab.kernel.accessAllowed ? 'block' : 'none';\n",
              "\n",
              "        async function convertToInteractive(key) {\n",
              "          const element = document.querySelector('#df-f1923cb4-82fe-4510-92f6-36d93419af50');\n",
              "          const dataTable =\n",
              "            await google.colab.kernel.invokeFunction('convertToInteractive',\n",
              "                                                     [key], {});\n",
              "          if (!dataTable) return;\n",
              "\n",
              "          const docLinkHtml = 'Like what you see? Visit the ' +\n",
              "            '<a target=\"_blank\" href=https://colab.research.google.com/notebooks/data_table.ipynb>data table notebook</a>'\n",
              "            + ' to learn more about interactive tables.';\n",
              "          element.innerHTML = '';\n",
              "          dataTable['output_type'] = 'display_data';\n",
              "          await google.colab.output.renderOutput(dataTable, element);\n",
              "          const docLink = document.createElement('div');\n",
              "          docLink.innerHTML = docLinkHtml;\n",
              "          element.appendChild(docLink);\n",
              "        }\n",
              "      </script>\n",
              "    </div>\n",
              "  </div>\n",
              "  "
            ],
            "text/plain": [
              "           Class\n",
              "V17    -0.326481\n",
              "V14    -0.302544\n",
              "V12    -0.260593\n",
              "V10    -0.216883\n",
              "V16    -0.196539\n",
              "V3     -0.192961\n",
              "V7     -0.187257\n",
              "V18    -0.111485\n",
              "V1     -0.101347\n",
              "V9     -0.097733\n",
              "V5     -0.094974\n",
              "V6     -0.043643\n",
              "Time   -0.012323\n",
              "V24    -0.007221\n",
              "V13    -0.004570\n",
              "V15    -0.004223\n",
              "V23    -0.002685\n",
              "V22     0.000805\n",
              "V25     0.003308\n",
              "V26     0.004455\n",
              "Amount  0.005632\n",
              "V28     0.009536\n",
              "V27     0.017580\n",
              "V8      0.019875\n",
              "V20     0.020090\n",
              "V19     0.034783\n",
              "V21     0.040413\n",
              "V2      0.091289\n",
              "V4      0.133447\n",
              "V11     0.154876"
            ]
          },
          "execution_count": 12,
          "metadata": {},
          "output_type": "execute_result"
        }
      ],
      "source": [
        "df.corr()[['Class']].sort_values(by='Class')[:-1]"
      ]
    },
    {
      "cell_type": "markdown",
      "metadata": {
        "id": "udj0nr_zx21n"
      },
      "source": [
        "Como observado, nenhuma variável tem forte correlação com a variável alvo. Seguimos com nosso estudos."
      ]
    },
    {
      "cell_type": "markdown",
      "metadata": {
        "id": "TCbcpGaHwB-S"
      },
      "source": [
        "## 3 - Preprocessamento do dataset para uso em Machine Learning"
      ]
    },
    {
      "cell_type": "markdown",
      "metadata": {
        "id": "ZUduqy6CzqFQ"
      },
      "source": [
        "### 3.1 - Definição de variáveis dependente e independentes"
      ]
    },
    {
      "cell_type": "code",
      "execution_count": null,
      "metadata": {
        "colab": {
          "base_uri": "https://localhost:8080/"
        },
        "id": "TcbFsUfmwinB",
        "outputId": "9aa10dc0-e11a-4f67-9046-ff972ead7148"
      },
      "outputs": [
        {
          "output_type": "execute_result",
          "data": {
            "text/plain": [
              "0         0\n",
              "1         0\n",
              "2         0\n",
              "3         0\n",
              "4         0\n",
              "         ..\n",
              "284802    0\n",
              "284803    0\n",
              "284804    0\n",
              "284805    0\n",
              "284806    0\n",
              "Name: Class, Length: 284807, dtype: int64"
            ]
          },
          "metadata": {},
          "execution_count": 3
        }
      ],
      "source": [
        "# Definição de variável dependente\n",
        "col_target = 'Class'\n",
        "target = df[col_target]\n",
        "target"
      ]
    },
    {
      "cell_type": "code",
      "execution_count": null,
      "metadata": {
        "colab": {
          "base_uri": "https://localhost:8080/",
          "height": 488
        },
        "id": "GZUDKiFgqrGA",
        "outputId": "3783b5a1-4efa-46dd-d878-d91b22aaf84b"
      },
      "outputs": [
        {
          "output_type": "execute_result",
          "data": {
            "text/plain": [
              "            Time         V1         V2        V3        V4        V5  \\\n",
              "0            0.0  -1.359807  -0.072781  2.536347  1.378155 -0.338321   \n",
              "1            0.0   1.191857   0.266151  0.166480  0.448154  0.060018   \n",
              "2            1.0  -1.358354  -1.340163  1.773209  0.379780 -0.503198   \n",
              "3            1.0  -0.966272  -0.185226  1.792993 -0.863291 -0.010309   \n",
              "4            2.0  -1.158233   0.877737  1.548718  0.403034 -0.407193   \n",
              "...          ...        ...        ...       ...       ...       ...   \n",
              "284802  172786.0 -11.881118  10.071785 -9.834783 -2.066656 -5.364473   \n",
              "284803  172787.0  -0.732789  -0.055080  2.035030 -0.738589  0.868229   \n",
              "284804  172788.0   1.919565  -0.301254 -3.249640 -0.557828  2.630515   \n",
              "284805  172788.0  -0.240440   0.530483  0.702510  0.689799 -0.377961   \n",
              "284806  172792.0  -0.533413  -0.189733  0.703337 -0.506271 -0.012546   \n",
              "\n",
              "              V6        V7        V8        V9       V10       V11       V12  \\\n",
              "0       0.462388  0.239599  0.098698  0.363787  0.090794 -0.551600 -0.617801   \n",
              "1      -0.082361 -0.078803  0.085102 -0.255425 -0.166974  1.612727  1.065235   \n",
              "2       1.800499  0.791461  0.247676 -1.514654  0.207643  0.624501  0.066084   \n",
              "3       1.247203  0.237609  0.377436 -1.387024 -0.054952 -0.226487  0.178228   \n",
              "4       0.095921  0.592941 -0.270533  0.817739  0.753074 -0.822843  0.538196   \n",
              "...          ...       ...       ...       ...       ...       ...       ...   \n",
              "284802 -2.606837 -4.918215  7.305334  1.914428  4.356170 -1.593105  2.711941   \n",
              "284803  1.058415  0.024330  0.294869  0.584800 -0.975926 -0.150189  0.915802   \n",
              "284804  3.031260 -0.296827  0.708417  0.432454 -0.484782  0.411614  0.063119   \n",
              "284805  0.623708 -0.686180  0.679145  0.392087 -0.399126 -1.933849 -0.962886   \n",
              "284806 -0.649617  1.577006 -0.414650  0.486180 -0.915427 -1.040458 -0.031513   \n",
              "\n",
              "             V13       V14       V15       V16       V17       V18       V19  \\\n",
              "0      -0.991390 -0.311169  1.468177 -0.470401  0.207971  0.025791  0.403993   \n",
              "1       0.489095 -0.143772  0.635558  0.463917 -0.114805 -0.183361 -0.145783   \n",
              "2       0.717293 -0.165946  2.345865 -2.890083  1.109969 -0.121359 -2.261857   \n",
              "3       0.507757 -0.287924 -0.631418 -1.059647 -0.684093  1.965775 -1.232622   \n",
              "4       1.345852 -1.119670  0.175121 -0.451449 -0.237033 -0.038195  0.803487   \n",
              "...          ...       ...       ...       ...       ...       ...       ...   \n",
              "284802 -0.689256  4.626942 -0.924459  1.107641  1.991691  0.510632 -0.682920   \n",
              "284803  1.214756 -0.675143  1.164931 -0.711757 -0.025693 -1.221179 -1.545556   \n",
              "284804 -0.183699 -0.510602  1.329284  0.140716  0.313502  0.395652 -0.577252   \n",
              "284805 -1.042082  0.449624  1.962563 -0.608577  0.509928  1.113981  2.897849   \n",
              "284806 -0.188093 -0.084316  0.041333 -0.302620 -0.660377  0.167430 -0.256117   \n",
              "\n",
              "             V20       V21       V22       V23       V24       V25       V26  \\\n",
              "0       0.251412 -0.018307  0.277838 -0.110474  0.066928  0.128539 -0.189115   \n",
              "1      -0.069083 -0.225775 -0.638672  0.101288 -0.339846  0.167170  0.125895   \n",
              "2       0.524980  0.247998  0.771679  0.909412 -0.689281 -0.327642 -0.139097   \n",
              "3      -0.208038 -0.108300  0.005274 -0.190321 -1.175575  0.647376 -0.221929   \n",
              "4       0.408542 -0.009431  0.798278 -0.137458  0.141267 -0.206010  0.502292   \n",
              "...          ...       ...       ...       ...       ...       ...       ...   \n",
              "284802  1.475829  0.213454  0.111864  1.014480 -0.509348  1.436807  0.250034   \n",
              "284803  0.059616  0.214205  0.924384  0.012463 -1.016226 -0.606624 -0.395255   \n",
              "284804  0.001396  0.232045  0.578229 -0.037501  0.640134  0.265745 -0.087371   \n",
              "284805  0.127434  0.265245  0.800049 -0.163298  0.123205 -0.569159  0.546668   \n",
              "284806  0.382948  0.261057  0.643078  0.376777  0.008797 -0.473649 -0.818267   \n",
              "\n",
              "             V27       V28  Amount  \n",
              "0       0.133558 -0.021053  149.62  \n",
              "1      -0.008983  0.014724    2.69  \n",
              "2      -0.055353 -0.059752  378.66  \n",
              "3       0.062723  0.061458  123.50  \n",
              "4       0.219422  0.215153   69.99  \n",
              "...          ...       ...     ...  \n",
              "284802  0.943651  0.823731    0.77  \n",
              "284803  0.068472 -0.053527   24.79  \n",
              "284804  0.004455 -0.026561   67.88  \n",
              "284805  0.108821  0.104533   10.00  \n",
              "284806 -0.002415  0.013649  217.00  \n",
              "\n",
              "[284807 rows x 30 columns]"
            ],
            "text/html": [
              "\n",
              "  <div id=\"df-7d3e3258-e08c-4472-8185-7339ba008e70\">\n",
              "    <div class=\"colab-df-container\">\n",
              "      <div>\n",
              "<style scoped>\n",
              "    .dataframe tbody tr th:only-of-type {\n",
              "        vertical-align: middle;\n",
              "    }\n",
              "\n",
              "    .dataframe tbody tr th {\n",
              "        vertical-align: top;\n",
              "    }\n",
              "\n",
              "    .dataframe thead th {\n",
              "        text-align: right;\n",
              "    }\n",
              "</style>\n",
              "<table border=\"1\" class=\"dataframe\">\n",
              "  <thead>\n",
              "    <tr style=\"text-align: right;\">\n",
              "      <th></th>\n",
              "      <th>Time</th>\n",
              "      <th>V1</th>\n",
              "      <th>V2</th>\n",
              "      <th>V3</th>\n",
              "      <th>V4</th>\n",
              "      <th>V5</th>\n",
              "      <th>V6</th>\n",
              "      <th>V7</th>\n",
              "      <th>V8</th>\n",
              "      <th>V9</th>\n",
              "      <th>V10</th>\n",
              "      <th>V11</th>\n",
              "      <th>V12</th>\n",
              "      <th>V13</th>\n",
              "      <th>V14</th>\n",
              "      <th>V15</th>\n",
              "      <th>V16</th>\n",
              "      <th>V17</th>\n",
              "      <th>V18</th>\n",
              "      <th>V19</th>\n",
              "      <th>V20</th>\n",
              "      <th>V21</th>\n",
              "      <th>V22</th>\n",
              "      <th>V23</th>\n",
              "      <th>V24</th>\n",
              "      <th>V25</th>\n",
              "      <th>V26</th>\n",
              "      <th>V27</th>\n",
              "      <th>V28</th>\n",
              "      <th>Amount</th>\n",
              "    </tr>\n",
              "  </thead>\n",
              "  <tbody>\n",
              "    <tr>\n",
              "      <th>0</th>\n",
              "      <td>0.0</td>\n",
              "      <td>-1.359807</td>\n",
              "      <td>-0.072781</td>\n",
              "      <td>2.536347</td>\n",
              "      <td>1.378155</td>\n",
              "      <td>-0.338321</td>\n",
              "      <td>0.462388</td>\n",
              "      <td>0.239599</td>\n",
              "      <td>0.098698</td>\n",
              "      <td>0.363787</td>\n",
              "      <td>0.090794</td>\n",
              "      <td>-0.551600</td>\n",
              "      <td>-0.617801</td>\n",
              "      <td>-0.991390</td>\n",
              "      <td>-0.311169</td>\n",
              "      <td>1.468177</td>\n",
              "      <td>-0.470401</td>\n",
              "      <td>0.207971</td>\n",
              "      <td>0.025791</td>\n",
              "      <td>0.403993</td>\n",
              "      <td>0.251412</td>\n",
              "      <td>-0.018307</td>\n",
              "      <td>0.277838</td>\n",
              "      <td>-0.110474</td>\n",
              "      <td>0.066928</td>\n",
              "      <td>0.128539</td>\n",
              "      <td>-0.189115</td>\n",
              "      <td>0.133558</td>\n",
              "      <td>-0.021053</td>\n",
              "      <td>149.62</td>\n",
              "    </tr>\n",
              "    <tr>\n",
              "      <th>1</th>\n",
              "      <td>0.0</td>\n",
              "      <td>1.191857</td>\n",
              "      <td>0.266151</td>\n",
              "      <td>0.166480</td>\n",
              "      <td>0.448154</td>\n",
              "      <td>0.060018</td>\n",
              "      <td>-0.082361</td>\n",
              "      <td>-0.078803</td>\n",
              "      <td>0.085102</td>\n",
              "      <td>-0.255425</td>\n",
              "      <td>-0.166974</td>\n",
              "      <td>1.612727</td>\n",
              "      <td>1.065235</td>\n",
              "      <td>0.489095</td>\n",
              "      <td>-0.143772</td>\n",
              "      <td>0.635558</td>\n",
              "      <td>0.463917</td>\n",
              "      <td>-0.114805</td>\n",
              "      <td>-0.183361</td>\n",
              "      <td>-0.145783</td>\n",
              "      <td>-0.069083</td>\n",
              "      <td>-0.225775</td>\n",
              "      <td>-0.638672</td>\n",
              "      <td>0.101288</td>\n",
              "      <td>-0.339846</td>\n",
              "      <td>0.167170</td>\n",
              "      <td>0.125895</td>\n",
              "      <td>-0.008983</td>\n",
              "      <td>0.014724</td>\n",
              "      <td>2.69</td>\n",
              "    </tr>\n",
              "    <tr>\n",
              "      <th>2</th>\n",
              "      <td>1.0</td>\n",
              "      <td>-1.358354</td>\n",
              "      <td>-1.340163</td>\n",
              "      <td>1.773209</td>\n",
              "      <td>0.379780</td>\n",
              "      <td>-0.503198</td>\n",
              "      <td>1.800499</td>\n",
              "      <td>0.791461</td>\n",
              "      <td>0.247676</td>\n",
              "      <td>-1.514654</td>\n",
              "      <td>0.207643</td>\n",
              "      <td>0.624501</td>\n",
              "      <td>0.066084</td>\n",
              "      <td>0.717293</td>\n",
              "      <td>-0.165946</td>\n",
              "      <td>2.345865</td>\n",
              "      <td>-2.890083</td>\n",
              "      <td>1.109969</td>\n",
              "      <td>-0.121359</td>\n",
              "      <td>-2.261857</td>\n",
              "      <td>0.524980</td>\n",
              "      <td>0.247998</td>\n",
              "      <td>0.771679</td>\n",
              "      <td>0.909412</td>\n",
              "      <td>-0.689281</td>\n",
              "      <td>-0.327642</td>\n",
              "      <td>-0.139097</td>\n",
              "      <td>-0.055353</td>\n",
              "      <td>-0.059752</td>\n",
              "      <td>378.66</td>\n",
              "    </tr>\n",
              "    <tr>\n",
              "      <th>3</th>\n",
              "      <td>1.0</td>\n",
              "      <td>-0.966272</td>\n",
              "      <td>-0.185226</td>\n",
              "      <td>1.792993</td>\n",
              "      <td>-0.863291</td>\n",
              "      <td>-0.010309</td>\n",
              "      <td>1.247203</td>\n",
              "      <td>0.237609</td>\n",
              "      <td>0.377436</td>\n",
              "      <td>-1.387024</td>\n",
              "      <td>-0.054952</td>\n",
              "      <td>-0.226487</td>\n",
              "      <td>0.178228</td>\n",
              "      <td>0.507757</td>\n",
              "      <td>-0.287924</td>\n",
              "      <td>-0.631418</td>\n",
              "      <td>-1.059647</td>\n",
              "      <td>-0.684093</td>\n",
              "      <td>1.965775</td>\n",
              "      <td>-1.232622</td>\n",
              "      <td>-0.208038</td>\n",
              "      <td>-0.108300</td>\n",
              "      <td>0.005274</td>\n",
              "      <td>-0.190321</td>\n",
              "      <td>-1.175575</td>\n",
              "      <td>0.647376</td>\n",
              "      <td>-0.221929</td>\n",
              "      <td>0.062723</td>\n",
              "      <td>0.061458</td>\n",
              "      <td>123.50</td>\n",
              "    </tr>\n",
              "    <tr>\n",
              "      <th>4</th>\n",
              "      <td>2.0</td>\n",
              "      <td>-1.158233</td>\n",
              "      <td>0.877737</td>\n",
              "      <td>1.548718</td>\n",
              "      <td>0.403034</td>\n",
              "      <td>-0.407193</td>\n",
              "      <td>0.095921</td>\n",
              "      <td>0.592941</td>\n",
              "      <td>-0.270533</td>\n",
              "      <td>0.817739</td>\n",
              "      <td>0.753074</td>\n",
              "      <td>-0.822843</td>\n",
              "      <td>0.538196</td>\n",
              "      <td>1.345852</td>\n",
              "      <td>-1.119670</td>\n",
              "      <td>0.175121</td>\n",
              "      <td>-0.451449</td>\n",
              "      <td>-0.237033</td>\n",
              "      <td>-0.038195</td>\n",
              "      <td>0.803487</td>\n",
              "      <td>0.408542</td>\n",
              "      <td>-0.009431</td>\n",
              "      <td>0.798278</td>\n",
              "      <td>-0.137458</td>\n",
              "      <td>0.141267</td>\n",
              "      <td>-0.206010</td>\n",
              "      <td>0.502292</td>\n",
              "      <td>0.219422</td>\n",
              "      <td>0.215153</td>\n",
              "      <td>69.99</td>\n",
              "    </tr>\n",
              "    <tr>\n",
              "      <th>...</th>\n",
              "      <td>...</td>\n",
              "      <td>...</td>\n",
              "      <td>...</td>\n",
              "      <td>...</td>\n",
              "      <td>...</td>\n",
              "      <td>...</td>\n",
              "      <td>...</td>\n",
              "      <td>...</td>\n",
              "      <td>...</td>\n",
              "      <td>...</td>\n",
              "      <td>...</td>\n",
              "      <td>...</td>\n",
              "      <td>...</td>\n",
              "      <td>...</td>\n",
              "      <td>...</td>\n",
              "      <td>...</td>\n",
              "      <td>...</td>\n",
              "      <td>...</td>\n",
              "      <td>...</td>\n",
              "      <td>...</td>\n",
              "      <td>...</td>\n",
              "      <td>...</td>\n",
              "      <td>...</td>\n",
              "      <td>...</td>\n",
              "      <td>...</td>\n",
              "      <td>...</td>\n",
              "      <td>...</td>\n",
              "      <td>...</td>\n",
              "      <td>...</td>\n",
              "      <td>...</td>\n",
              "    </tr>\n",
              "    <tr>\n",
              "      <th>284802</th>\n",
              "      <td>172786.0</td>\n",
              "      <td>-11.881118</td>\n",
              "      <td>10.071785</td>\n",
              "      <td>-9.834783</td>\n",
              "      <td>-2.066656</td>\n",
              "      <td>-5.364473</td>\n",
              "      <td>-2.606837</td>\n",
              "      <td>-4.918215</td>\n",
              "      <td>7.305334</td>\n",
              "      <td>1.914428</td>\n",
              "      <td>4.356170</td>\n",
              "      <td>-1.593105</td>\n",
              "      <td>2.711941</td>\n",
              "      <td>-0.689256</td>\n",
              "      <td>4.626942</td>\n",
              "      <td>-0.924459</td>\n",
              "      <td>1.107641</td>\n",
              "      <td>1.991691</td>\n",
              "      <td>0.510632</td>\n",
              "      <td>-0.682920</td>\n",
              "      <td>1.475829</td>\n",
              "      <td>0.213454</td>\n",
              "      <td>0.111864</td>\n",
              "      <td>1.014480</td>\n",
              "      <td>-0.509348</td>\n",
              "      <td>1.436807</td>\n",
              "      <td>0.250034</td>\n",
              "      <td>0.943651</td>\n",
              "      <td>0.823731</td>\n",
              "      <td>0.77</td>\n",
              "    </tr>\n",
              "    <tr>\n",
              "      <th>284803</th>\n",
              "      <td>172787.0</td>\n",
              "      <td>-0.732789</td>\n",
              "      <td>-0.055080</td>\n",
              "      <td>2.035030</td>\n",
              "      <td>-0.738589</td>\n",
              "      <td>0.868229</td>\n",
              "      <td>1.058415</td>\n",
              "      <td>0.024330</td>\n",
              "      <td>0.294869</td>\n",
              "      <td>0.584800</td>\n",
              "      <td>-0.975926</td>\n",
              "      <td>-0.150189</td>\n",
              "      <td>0.915802</td>\n",
              "      <td>1.214756</td>\n",
              "      <td>-0.675143</td>\n",
              "      <td>1.164931</td>\n",
              "      <td>-0.711757</td>\n",
              "      <td>-0.025693</td>\n",
              "      <td>-1.221179</td>\n",
              "      <td>-1.545556</td>\n",
              "      <td>0.059616</td>\n",
              "      <td>0.214205</td>\n",
              "      <td>0.924384</td>\n",
              "      <td>0.012463</td>\n",
              "      <td>-1.016226</td>\n",
              "      <td>-0.606624</td>\n",
              "      <td>-0.395255</td>\n",
              "      <td>0.068472</td>\n",
              "      <td>-0.053527</td>\n",
              "      <td>24.79</td>\n",
              "    </tr>\n",
              "    <tr>\n",
              "      <th>284804</th>\n",
              "      <td>172788.0</td>\n",
              "      <td>1.919565</td>\n",
              "      <td>-0.301254</td>\n",
              "      <td>-3.249640</td>\n",
              "      <td>-0.557828</td>\n",
              "      <td>2.630515</td>\n",
              "      <td>3.031260</td>\n",
              "      <td>-0.296827</td>\n",
              "      <td>0.708417</td>\n",
              "      <td>0.432454</td>\n",
              "      <td>-0.484782</td>\n",
              "      <td>0.411614</td>\n",
              "      <td>0.063119</td>\n",
              "      <td>-0.183699</td>\n",
              "      <td>-0.510602</td>\n",
              "      <td>1.329284</td>\n",
              "      <td>0.140716</td>\n",
              "      <td>0.313502</td>\n",
              "      <td>0.395652</td>\n",
              "      <td>-0.577252</td>\n",
              "      <td>0.001396</td>\n",
              "      <td>0.232045</td>\n",
              "      <td>0.578229</td>\n",
              "      <td>-0.037501</td>\n",
              "      <td>0.640134</td>\n",
              "      <td>0.265745</td>\n",
              "      <td>-0.087371</td>\n",
              "      <td>0.004455</td>\n",
              "      <td>-0.026561</td>\n",
              "      <td>67.88</td>\n",
              "    </tr>\n",
              "    <tr>\n",
              "      <th>284805</th>\n",
              "      <td>172788.0</td>\n",
              "      <td>-0.240440</td>\n",
              "      <td>0.530483</td>\n",
              "      <td>0.702510</td>\n",
              "      <td>0.689799</td>\n",
              "      <td>-0.377961</td>\n",
              "      <td>0.623708</td>\n",
              "      <td>-0.686180</td>\n",
              "      <td>0.679145</td>\n",
              "      <td>0.392087</td>\n",
              "      <td>-0.399126</td>\n",
              "      <td>-1.933849</td>\n",
              "      <td>-0.962886</td>\n",
              "      <td>-1.042082</td>\n",
              "      <td>0.449624</td>\n",
              "      <td>1.962563</td>\n",
              "      <td>-0.608577</td>\n",
              "      <td>0.509928</td>\n",
              "      <td>1.113981</td>\n",
              "      <td>2.897849</td>\n",
              "      <td>0.127434</td>\n",
              "      <td>0.265245</td>\n",
              "      <td>0.800049</td>\n",
              "      <td>-0.163298</td>\n",
              "      <td>0.123205</td>\n",
              "      <td>-0.569159</td>\n",
              "      <td>0.546668</td>\n",
              "      <td>0.108821</td>\n",
              "      <td>0.104533</td>\n",
              "      <td>10.00</td>\n",
              "    </tr>\n",
              "    <tr>\n",
              "      <th>284806</th>\n",
              "      <td>172792.0</td>\n",
              "      <td>-0.533413</td>\n",
              "      <td>-0.189733</td>\n",
              "      <td>0.703337</td>\n",
              "      <td>-0.506271</td>\n",
              "      <td>-0.012546</td>\n",
              "      <td>-0.649617</td>\n",
              "      <td>1.577006</td>\n",
              "      <td>-0.414650</td>\n",
              "      <td>0.486180</td>\n",
              "      <td>-0.915427</td>\n",
              "      <td>-1.040458</td>\n",
              "      <td>-0.031513</td>\n",
              "      <td>-0.188093</td>\n",
              "      <td>-0.084316</td>\n",
              "      <td>0.041333</td>\n",
              "      <td>-0.302620</td>\n",
              "      <td>-0.660377</td>\n",
              "      <td>0.167430</td>\n",
              "      <td>-0.256117</td>\n",
              "      <td>0.382948</td>\n",
              "      <td>0.261057</td>\n",
              "      <td>0.643078</td>\n",
              "      <td>0.376777</td>\n",
              "      <td>0.008797</td>\n",
              "      <td>-0.473649</td>\n",
              "      <td>-0.818267</td>\n",
              "      <td>-0.002415</td>\n",
              "      <td>0.013649</td>\n",
              "      <td>217.00</td>\n",
              "    </tr>\n",
              "  </tbody>\n",
              "</table>\n",
              "<p>284807 rows × 30 columns</p>\n",
              "</div>\n",
              "      <button class=\"colab-df-convert\" onclick=\"convertToInteractive('df-7d3e3258-e08c-4472-8185-7339ba008e70')\"\n",
              "              title=\"Convert this dataframe to an interactive table.\"\n",
              "              style=\"display:none;\">\n",
              "        \n",
              "  <svg xmlns=\"http://www.w3.org/2000/svg\" height=\"24px\"viewBox=\"0 0 24 24\"\n",
              "       width=\"24px\">\n",
              "    <path d=\"M0 0h24v24H0V0z\" fill=\"none\"/>\n",
              "    <path d=\"M18.56 5.44l.94 2.06.94-2.06 2.06-.94-2.06-.94-.94-2.06-.94 2.06-2.06.94zm-11 1L8.5 8.5l.94-2.06 2.06-.94-2.06-.94L8.5 2.5l-.94 2.06-2.06.94zm10 10l.94 2.06.94-2.06 2.06-.94-2.06-.94-.94-2.06-.94 2.06-2.06.94z\"/><path d=\"M17.41 7.96l-1.37-1.37c-.4-.4-.92-.59-1.43-.59-.52 0-1.04.2-1.43.59L10.3 9.45l-7.72 7.72c-.78.78-.78 2.05 0 2.83L4 21.41c.39.39.9.59 1.41.59.51 0 1.02-.2 1.41-.59l7.78-7.78 2.81-2.81c.8-.78.8-2.07 0-2.86zM5.41 20L4 18.59l7.72-7.72 1.47 1.35L5.41 20z\"/>\n",
              "  </svg>\n",
              "      </button>\n",
              "      \n",
              "  <style>\n",
              "    .colab-df-container {\n",
              "      display:flex;\n",
              "      flex-wrap:wrap;\n",
              "      gap: 12px;\n",
              "    }\n",
              "\n",
              "    .colab-df-convert {\n",
              "      background-color: #E8F0FE;\n",
              "      border: none;\n",
              "      border-radius: 50%;\n",
              "      cursor: pointer;\n",
              "      display: none;\n",
              "      fill: #1967D2;\n",
              "      height: 32px;\n",
              "      padding: 0 0 0 0;\n",
              "      width: 32px;\n",
              "    }\n",
              "\n",
              "    .colab-df-convert:hover {\n",
              "      background-color: #E2EBFA;\n",
              "      box-shadow: 0px 1px 2px rgba(60, 64, 67, 0.3), 0px 1px 3px 1px rgba(60, 64, 67, 0.15);\n",
              "      fill: #174EA6;\n",
              "    }\n",
              "\n",
              "    [theme=dark] .colab-df-convert {\n",
              "      background-color: #3B4455;\n",
              "      fill: #D2E3FC;\n",
              "    }\n",
              "\n",
              "    [theme=dark] .colab-df-convert:hover {\n",
              "      background-color: #434B5C;\n",
              "      box-shadow: 0px 1px 3px 1px rgba(0, 0, 0, 0.15);\n",
              "      filter: drop-shadow(0px 1px 2px rgba(0, 0, 0, 0.3));\n",
              "      fill: #FFFFFF;\n",
              "    }\n",
              "  </style>\n",
              "\n",
              "      <script>\n",
              "        const buttonEl =\n",
              "          document.querySelector('#df-7d3e3258-e08c-4472-8185-7339ba008e70 button.colab-df-convert');\n",
              "        buttonEl.style.display =\n",
              "          google.colab.kernel.accessAllowed ? 'block' : 'none';\n",
              "\n",
              "        async function convertToInteractive(key) {\n",
              "          const element = document.querySelector('#df-7d3e3258-e08c-4472-8185-7339ba008e70');\n",
              "          const dataTable =\n",
              "            await google.colab.kernel.invokeFunction('convertToInteractive',\n",
              "                                                     [key], {});\n",
              "          if (!dataTable) return;\n",
              "\n",
              "          const docLinkHtml = 'Like what you see? Visit the ' +\n",
              "            '<a target=\"_blank\" href=https://colab.research.google.com/notebooks/data_table.ipynb>data table notebook</a>'\n",
              "            + ' to learn more about interactive tables.';\n",
              "          element.innerHTML = '';\n",
              "          dataTable['output_type'] = 'display_data';\n",
              "          await google.colab.output.renderOutput(dataTable, element);\n",
              "          const docLink = document.createElement('div');\n",
              "          docLink.innerHTML = docLinkHtml;\n",
              "          element.appendChild(docLink);\n",
              "        }\n",
              "      </script>\n",
              "    </div>\n",
              "  </div>\n",
              "  "
            ]
          },
          "metadata": {},
          "execution_count": 4
        }
      ],
      "source": [
        "# Definição de variáveis independentes\n",
        "data = df.drop(columns = col_target)\n",
        "data"
      ]
    },
    {
      "cell_type": "markdown",
      "metadata": {
        "id": "M4Io79SJadzz"
      },
      "source": [
        "### 3.2 - Padronização de vairáveis independentes\n",
        "Para melhor desempenhos dos algorítmos usados a seguir, faremos a padronização das variáveis independentes.\n",
        "\n"
      ]
    },
    {
      "cell_type": "code",
      "execution_count": null,
      "metadata": {
        "id": "t8g-usEDa915"
      },
      "outputs": [],
      "source": [
        "# Padronização\n",
        "scaler = StandardScaler()\n",
        "data_scaled = scaler.fit_transform(data)"
      ]
    },
    {
      "cell_type": "code",
      "execution_count": null,
      "metadata": {
        "colab": {
          "base_uri": "https://localhost:8080/"
        },
        "id": "GRUcR787JwsC",
        "outputId": "514a8ce4-7fff-4e47-9172-6989ff1cc0b7"
      },
      "outputs": [
        {
          "output_type": "stream",
          "name": "stdout",
          "text": [
            "[[-1.99658302 -0.69424232 -0.04407492 ...  0.33089162 -0.06378115\n",
            "   0.24496426]\n",
            " [-1.99658302  0.60849633  0.16117592 ... -0.02225568  0.04460752\n",
            "  -0.34247454]\n",
            " [-1.99656197 -0.69350046 -0.81157783 ... -0.13713686 -0.18102083\n",
            "   1.16068593]\n",
            " ...\n",
            " [ 1.6419735   0.98002374 -0.18243372 ...  0.01103672 -0.0804672\n",
            "  -0.0818393 ]\n",
            " [ 1.6419735  -0.12275539  0.32125034 ...  0.26960398  0.31668678\n",
            "  -0.31324853]\n",
            " [ 1.64205773 -0.27233093 -0.11489898 ... -0.00598394  0.04134999\n",
            "   0.51435531]]\n"
          ]
        }
      ],
      "source": [
        "print(data_scaled)"
      ]
    },
    {
      "cell_type": "markdown",
      "metadata": {
        "id": "myP5AZ8RMW63"
      },
      "source": [
        "### 3.3 - Separação de dataset em treino e teste\n",
        "Como estratégia para aprendizado dos algorítmos e posterior validação do nosso modelo, efetuarei a separação do *dataset* em dados para treino e dados para teste.\n",
        "\n",
        "O conjuto de dados para treino será então dividido novamente utilizando técnica de *Cross Validation*."
      ]
    },
    {
      "cell_type": "code",
      "execution_count": null,
      "metadata": {
        "id": "0MiqOlYqNE_5"
      },
      "outputs": [],
      "source": [
        "# Separação do dataset\n",
        "data_train, data_test, target_train, target_test = train_test_split(data_scaled, target, test_size = 0.2, random_state = 7)"
      ]
    },
    {
      "cell_type": "markdown",
      "metadata": {
        "id": "eeuWRSya0pEI"
      },
      "source": [
        "## 4 - Escolha do algorítimo de Machine Learning\n",
        "Neste ponto iniciaremos os teste com 3 algorítmos: **Regressão Logística**, **Random Forest** e **KNN**. Em seguida farei a escolha por um destes para aplicar no conjunto de teste."
      ]
    },
    {
      "cell_type": "markdown",
      "metadata": {
        "id": "n3AH1OSxDTXw"
      },
      "source": [
        "### 4.1 - Dataset não balanceado\n",
        "\n",
        "Primeiramente treinaremos os modelos com o *dataset* original, com dados extremamente desbalanceados. Para avaliação dos modelos, utilizarei a acurácia e o **f1-score**. \n",
        "Essa métrica combina **precisão** e **recall** de modo a trazer um número único que indique a qualidade geral do seu modelo e trabalha bem até com conjuntos de dados que possuem classes desproporcionais.[4]\n"
      ]
    },
    {
      "cell_type": "code",
      "execution_count": null,
      "metadata": {
        "colab": {
          "base_uri": "https://localhost:8080/"
        },
        "id": "NvgExdJMi7IH",
        "outputId": "c5c46157-9fe6-4ce2-b8bd-6a0c5c37533b"
      },
      "outputs": [
        {
          "output_type": "stream",
          "name": "stdout",
          "text": [
            "Modelo: LogisticRegression \n",
            "Média accuracy: 0.999 | Desvio accuracy: 0.000\n",
            "Média f1-score: 0.722 | Desvio f1-score: 0.048\n",
            "\n",
            "Modelo: RandomForestClassifier \n",
            "Média accuracy: 1.000 | Desvio accuracy: 0.000\n",
            "Média f1-score: 0.852 | Desvio f1-score: 0.027\n",
            "\n",
            "Modelo: KNeighborsClassifier \n",
            "Média accuracy: 0.999 | Desvio accuracy: 0.000\n",
            "Média f1-score: 0.820 | Desvio f1-score: 0.045\n",
            "\n"
          ]
        }
      ],
      "source": [
        "# Conjunto de modelos\n",
        "models = [LogisticRegression(), RandomForestClassifier(), KNeighborsClassifier()]\n",
        "\n",
        "# Métricas de cada modelo\n",
        "\n",
        "for model in models:\n",
        "    cv_results = cross_validate(model, data_train, target_train, cv=5, scoring=['accuracy','f1'])\n",
        "    nome_modelo = type(model).__name__ # somente para exibição\n",
        "    print('Modelo: {} \\nMédia accuracy: {:.3f} | Desvio accuracy: {:.3f}'.format(nome_modelo,\n",
        "                                    cv_results['test_accuracy'].mean(), \n",
        "                                    cv_results['test_accuracy'].std()))\n",
        "    print('Média f1-score: {:.3f} | Desvio f1-score: {:.3f}\\n'.format(\n",
        "                                    cv_results['test_f1'].mean(), \n",
        "                                    cv_results['test_f1'].std()))\n",
        "    "
      ]
    },
    {
      "cell_type": "markdown",
      "metadata": {
        "id": "IX3kq5pSJ9ip"
      },
      "source": [
        "O melhor desempenho neste cenário foi do **Random Forest** com acurácia de 1.000 e f1-score de 0.852."
      ]
    },
    {
      "cell_type": "markdown",
      "metadata": {
        "id": "jF5u2BVxPmPX"
      },
      "source": [
        "### 4.2 - Dataset balanceado\n",
        "Nesta seção utilizaremos dois métodos para balamceamento do *dataset*. O ***oversampling*** gera novos dados  da classe minoritária, deixando o *dataset* com um tamanho muito maior, porém com as classes correspondendo a 50% cada uma. Já o método ***undersampling*** retira dados da classe predominante para igualar ao número da classe em menor número, neste método informações são perdidas."
      ]
    },
    {
      "cell_type": "markdown",
      "metadata": {
        "id": "KEGPJUDHLdI2"
      },
      "source": [
        "#### 4.2.1 - Oversampling"
      ]
    },
    {
      "cell_type": "code",
      "execution_count": null,
      "metadata": {
        "colab": {
          "base_uri": "https://localhost:8080/"
        },
        "id": "r3r3zRw5NCbb",
        "outputId": "6ecbdb62-b25b-40bb-9ec7-41c6e61febd6"
      },
      "outputs": [
        {
          "output_type": "stream",
          "name": "stdout",
          "text": [
            "Tamanho do dataset balanceado:\n",
            "0    227453\n",
            "1    227453\n",
            "Name: Class, dtype: int64\n"
          ]
        }
      ],
      "source": [
        "# Balanceado dataset\n",
        "ros = RandomOverSampler(random_state=0)\n",
        "data_over, target_over = ros.fit_resample(data_train, target_train)\n",
        "print('Tamanho do dataset balanceado:\\n%s' % (target_over.value_counts()))"
      ]
    },
    {
      "cell_type": "code",
      "execution_count": null,
      "metadata": {
        "colab": {
          "base_uri": "https://localhost:8080/"
        },
        "id": "8s3oTbfxKW8A",
        "outputId": "dd3c605e-d9c5-4a14-a324-4fdbcf8c6793"
      },
      "outputs": [
        {
          "output_type": "stream",
          "name": "stdout",
          "text": [
            "Modelo: LogisticRegression \n",
            "Média accuracy: 0.951 | Desvio accuracy: 0.001\n",
            "Média f1-score: 0.949 | Desvio f1-score: 0.001\n",
            "\n",
            "Modelo: RandomForestClassifier \n",
            "Média accuracy: 1.000 | Desvio accuracy: 0.000\n",
            "Média f1-score: 1.000 | Desvio f1-score: 0.000\n",
            "\n",
            "Modelo: KNeighborsClassifier \n",
            "Média accuracy: 1.000 | Desvio accuracy: 0.000\n",
            "Média f1-score: 1.000 | Desvio f1-score: 0.000\n",
            "\n"
          ]
        }
      ],
      "source": [
        "# Conjunto de modelos\n",
        "models = [LogisticRegression(), RandomForestClassifier(), KNeighborsClassifier()]\n",
        "\n",
        "# Métricas de cada modelo\n",
        "\n",
        "for model in models:\n",
        "    cv_results = cross_validate(model, data_over, target_over, cv=5, scoring=['accuracy','f1'])\n",
        "    nome_modelo = type(model).__name__ # somente para exibição\n",
        "    print('Modelo: {} \\nMédia accuracy: {:.3f} | Desvio accuracy: {:.3f}'.format(nome_modelo,\n",
        "                                    cv_results['test_accuracy'].mean(), \n",
        "                                    cv_results['test_accuracy'].std()))\n",
        "    print('Média f1-score: {:.3f} | Desvio f1-score: {:.3f}\\n'.format(\n",
        "                                    cv_results['test_f1'].mean(), \n",
        "                                    cv_results['test_f1'].std()))"
      ]
    },
    {
      "cell_type": "markdown",
      "source": [
        "Para este cenário os algorítmos **Random Forest** e **KNN** empataram em desempenho com acurária igual a 1.000 e f1-score também igual a 1.000."
      ],
      "metadata": {
        "id": "peOAGbj6JNL4"
      }
    },
    {
      "cell_type": "markdown",
      "metadata": {
        "id": "5Zr4TC7PL_2y"
      },
      "source": [
        "#### 4.2.2 - Undersampling"
      ]
    },
    {
      "cell_type": "code",
      "execution_count": null,
      "metadata": {
        "colab": {
          "base_uri": "https://localhost:8080/"
        },
        "id": "hy3F67-ML6CA",
        "outputId": "335e2982-fe0b-4090-b3e7-68b59c211f31"
      },
      "outputs": [
        {
          "output_type": "stream",
          "name": "stdout",
          "text": [
            "Tamanho do dataset balanceado:\n",
            "0    392\n",
            "1    392\n",
            "Name: Class, dtype: int64\n"
          ]
        }
      ],
      "source": [
        "# Balanceado dataset\n",
        "rus = RandomUnderSampler(random_state=0)\n",
        "data_under, target_under = rus.fit_resample(data_train, target_train)\n",
        "print('Tamanho do dataset balanceado:\\n%s' % (target_under.value_counts()))"
      ]
    },
    {
      "cell_type": "code",
      "execution_count": null,
      "metadata": {
        "id": "hMloe1AzQ28N",
        "colab": {
          "base_uri": "https://localhost:8080/"
        },
        "outputId": "0949011c-1334-42b8-af7d-13201a15e9ad"
      },
      "outputs": [
        {
          "output_type": "stream",
          "name": "stdout",
          "text": [
            "Modelo: LogisticRegression \n",
            "Média accuracy: 0.934 | Desvio accuracy: 0.020\n",
            "Média f1-score: 0.931 | Desvio f1-score: 0.021\n",
            "\n",
            "Modelo: RandomForestClassifier \n",
            "Média accuracy: 0.929 | Desvio accuracy: 0.026\n",
            "Média f1-score: 0.926 | Desvio f1-score: 0.028\n",
            "\n",
            "Modelo: KNeighborsClassifier \n",
            "Média accuracy: 0.932 | Desvio accuracy: 0.018\n",
            "Média f1-score: 0.929 | Desvio f1-score: 0.019\n",
            "\n"
          ]
        }
      ],
      "source": [
        "# Conjunto de modelos\n",
        "models = [LogisticRegression(), RandomForestClassifier(), KNeighborsClassifier()]\n",
        "\n",
        "# Métricas de cada modelo\n",
        "\n",
        "for model in models:\n",
        "    cv_results = cross_validate(model, data_under, target_under, cv=5, scoring=['accuracy','f1'])\n",
        "    nome_modelo = type(model).__name__ # somente para exibição\n",
        "    print('Modelo: {} \\nMédia accuracy: {:.3f} | Desvio accuracy: {:.3f}'.format(nome_modelo,\n",
        "                                    cv_results['test_accuracy'].mean(), \n",
        "                                    cv_results['test_accuracy'].std()))\n",
        "    print('Média f1-score: {:.3f} | Desvio f1-score: {:.3f}\\n'.format(\n",
        "                                    cv_results['test_f1'].mean(), \n",
        "                                    cv_results['test_f1'].std()))"
      ]
    },
    {
      "cell_type": "markdown",
      "source": [
        "Para este cenário o **KNN** se saiu melhor com acurácia de 0.932 e f1-score de 0.929"
      ],
      "metadata": {
        "id": "y1b7gry3JdSJ"
      }
    },
    {
      "cell_type": "markdown",
      "source": [
        "## 5 - Escolha do modelo\n",
        "Para continuação do nosso trabalho, escolhi o modelo **Rando Forest**. Seu desempenho foi tão bom quanto ao **KNN**, com a vantagem de usar os recursos computacionais apenas no treinamento do modelo. Em bora o desempenho do **KNN** tenha sido levemente superior, o uso de recursos computacionais é transferido para o momento da classificação, já que armazena todo o *dataset* e classifica as novas entradas quando solicitado, dificultando o uso em ambiente de produção.\n",
        "\n",
        "Quanto à tecnica debalanceamento, o ***oversampling*** se mostrou melhor."
      ],
      "metadata": {
        "id": "NjCET3LuJUGq"
      }
    },
    {
      "cell_type": "markdown",
      "source": [
        "#### 5.1 - Predição sem ajuste de parâmetros"
      ],
      "metadata": {
        "id": "V6hOm5sSMftc"
      }
    },
    {
      "cell_type": "code",
      "source": [
        "# Treinando modelo Random Forest com oversampling\n",
        "rf = RandomForestClassifier()\n",
        "\n",
        "model = rf.fit(data_over, target_over)"
      ],
      "metadata": {
        "id": "lgQ-vODRKI8K"
      },
      "execution_count": null,
      "outputs": []
    },
    {
      "cell_type": "code",
      "source": [
        "# Verificando hiperparâmetros\n",
        "model.get_params()"
      ],
      "metadata": {
        "colab": {
          "base_uri": "https://localhost:8080/"
        },
        "id": "1s9ouqC2ucaq",
        "outputId": "2f100775-37bb-4dce-8a90-319e0d7bbe3d"
      },
      "execution_count": null,
      "outputs": [
        {
          "output_type": "execute_result",
          "data": {
            "text/plain": [
              "{'bootstrap': True,\n",
              " 'ccp_alpha': 0.0,\n",
              " 'class_weight': None,\n",
              " 'criterion': 'gini',\n",
              " 'max_depth': None,\n",
              " 'max_features': 'auto',\n",
              " 'max_leaf_nodes': None,\n",
              " 'max_samples': None,\n",
              " 'min_impurity_decrease': 0.0,\n",
              " 'min_samples_leaf': 1,\n",
              " 'min_samples_split': 2,\n",
              " 'min_weight_fraction_leaf': 0.0,\n",
              " 'n_estimators': 100,\n",
              " 'n_jobs': None,\n",
              " 'oob_score': False,\n",
              " 'random_state': None,\n",
              " 'verbose': 0,\n",
              " 'warm_start': False}"
            ]
          },
          "metadata": {},
          "execution_count": 52
        }
      ]
    },
    {
      "cell_type": "markdown",
      "source": [
        "Faremos agora o usso do modelo no próprio *dataset* de treinamento, para verificação das métricas."
      ],
      "metadata": {
        "id": "6YYaiwHWLZP4"
      }
    },
    {
      "cell_type": "code",
      "source": [
        "# Predição com dados de treino\n",
        "pred_rf = model.predict(data_train)\n",
        "\n",
        "# Classification Report\n",
        "print('Classification Report: \\n', classification_report(target_train, pred_rf))\n",
        "print(\"-\" * 100)\n",
        "print()\n",
        "print('Accuracy Score: ', accuracy_score(target_train, pred_rf))\n",
        "print(\"-\" * 100)\n",
        "print()\n",
        "\n",
        "# Matriz de confusão\n",
        "plt.figure(figsize=(8, 8))\n",
        "sns.heatmap(confusion_matrix(target_train, pred_rf), annot=True, fmt='g', cmap = 'Blues');"
      ],
      "metadata": {
        "colab": {
          "base_uri": "https://localhost:8080/",
          "height": 743
        },
        "id": "TcXbyODXJd35",
        "outputId": "2cdfbb8a-ebac-4af7-a25d-f0fb72b99c4f"
      },
      "execution_count": null,
      "outputs": [
        {
          "output_type": "stream",
          "name": "stdout",
          "text": [
            "Classification Report: \n",
            "               precision    recall  f1-score   support\n",
            "\n",
            "           0       1.00      1.00      1.00    227453\n",
            "           1       1.00      1.00      1.00       392\n",
            "\n",
            "    accuracy                           1.00    227845\n",
            "   macro avg       1.00      1.00      1.00    227845\n",
            "weighted avg       1.00      1.00      1.00    227845\n",
            "\n",
            "----------------------------------------------------------------------------------------------------\n",
            "\n",
            "Accuracy Score:  1.0\n",
            "----------------------------------------------------------------------------------------------------\n",
            "\n"
          ]
        },
        {
          "output_type": "display_data",
          "data": {
            "text/plain": [
              "<Figure size 576x576 with 2 Axes>"
            ],
            "image/png": "[encoded data removed]"
          },
          "metadata": {
            "needs_background": "light"
          }
        }
      ]
    },
    {
      "cell_type": "markdown",
      "source": [
        "O resultado é que houve *overfiting*, ou seja, o modelo se adequou totalmente aos dados de treinamento e possivelmente terá um desempenho acentuadamente inferior com os dados de teste. O resultado mostra um acerto de 100%.\n",
        "\n",
        "Vamos verificar o resultado agora."
      ],
      "metadata": {
        "id": "V8qe0zvrTEEa"
      }
    },
    {
      "cell_type": "code",
      "source": [
        "# Predição com dados de teste\n",
        "pred_rf = model.predict(data_test)\n",
        "\n",
        "# Classification Report\n",
        "print('Classification Report: \\n', classification_report(target_test, pred_rf))\n",
        "print(\"-\" * 100)\n",
        "print()\n",
        "print('Accuracy Score: ', accuracy_score(target_test, pred_rf))\n",
        "print(\"-\" * 100)\n",
        "print()\n",
        "\n",
        "# Matriz de confusão\n",
        "plt.figure(figsize=(8, 8))\n",
        "sns.heatmap(confusion_matrix(target_test, pred_rf), annot=True, fmt='g', cmap = 'Blues');"
      ],
      "metadata": {
        "colab": {
          "base_uri": "https://localhost:8080/",
          "height": 743
        },
        "id": "-NRgla1WwpZL",
        "outputId": "69dfe771-1009-43bd-e197-97200a6263a3"
      },
      "execution_count": null,
      "outputs": [
        {
          "output_type": "stream",
          "name": "stdout",
          "text": [
            "Classification Report: \n",
            "               precision    recall  f1-score   support\n",
            "\n",
            "           0       1.00      1.00      1.00     56862\n",
            "           1       0.95      0.82      0.88       100\n",
            "\n",
            "    accuracy                           1.00     56962\n",
            "   macro avg       0.98      0.91      0.94     56962\n",
            "weighted avg       1.00      1.00      1.00     56962\n",
            "\n",
            "----------------------------------------------------------------------------------------------------\n",
            "\n",
            "Accuracy Score:  0.9996137776061234\n",
            "----------------------------------------------------------------------------------------------------\n",
            "\n"
          ]
        },
        {
          "output_type": "display_data",
          "data": {
            "text/plain": [
              "<Figure size 576x576 with 2 Axes>"
            ],
            "image/png": "[encoded data removed]"
          },
          "metadata": {
            "needs_background": "light"
          }
        }
      ]
    },
    {
      "cell_type": "markdown",
      "source": [
        "O resultado foi satisfatório, a média do **f1-score** foi de 0.94. \n",
        "\n",
        "Neste ponto é importante ponderar algo. Em 56862 transações que realmente foram legais, houve apenas 4 classificadas errôneamente como fraude. Já entre as 100 transações fraudulentas, 18 foram errôneamente classificadas como legais. Cabe à Administradora de Cartões de Crédito decicidir qual ponto ideal entre arriscar aprovar uma transação fraudulenta e negar uma transação legal, pois isso envolve alguns riscos como perdas financeiras acentuadas, danos morais para os clientes, etc."
      ],
      "metadata": {
        "id": "GWVGiPPWN0WA"
      }
    },
    {
      "cell_type": "markdown",
      "source": [
        "#### 5.2 - Ajuste de hiperparâmetros\n",
        "Farei aqui uma tentativa de melhora no modelo de *machine learning* buscando ajustar alguns hiperparâmetros. Com isso busco dois objetivos, primeiramente a melhora na métrica **f1-score**, segundo, o menor uso de recursos computacionais. Neste trabalho, em alguns pontos o treinamento do modelo durou até 60 minutos. \n",
        "\n",
        "Importante lembrar que o modelo sofreu *overfiting*, portanto busquei de certa forma piorar o desempenho com os dados de treino.\n",
        "\n",
        "Os hiperparâmetros testados foram '*criterion*', '*n_estimators*' e '*max_depth*'.\n",
        "\n"
      ],
      "metadata": {
        "id": "DrU4G5XaOufJ"
      }
    },
    {
      "cell_type": "code",
      "source": [
        "# GridSearchCV\n",
        "\n",
        "param_grid = {\n",
        "    'criterion': ('gini', 'entropy'),\n",
        "    'n_estimators': (10, 20, 50),\n",
        "    'max_depth' : (3, 9 , 15)\n",
        "    }\n",
        "\n",
        "model_grid_search = GridSearchCV(model, param_grid=param_grid,\n",
        "                                 n_jobs=2, cv=5)\n",
        "\n",
        "model_grid_search.fit(data_over, target_over)"
      ],
      "metadata": {
        "colab": {
          "base_uri": "https://localhost:8080/"
        },
        "id": "kaB-yKJmjY8n",
        "outputId": "88927762-8247-4352-8708-4208f5743754"
      },
      "execution_count": null,
      "outputs": [
        {
          "output_type": "execute_result",
          "data": {
            "text/plain": [
              "GridSearchCV(cv=5, estimator=RandomForestClassifier(), n_jobs=2,\n",
              "             param_grid={'criterion': ('gini', 'entropy'),\n",
              "                         'max_depth': (3, 9, 15),\n",
              "                         'n_estimators': (10, 20, 50)})"
            ]
          },
          "metadata": {},
          "execution_count": 17
        }
      ]
    },
    {
      "cell_type": "code",
      "source": [
        "print(f\"Os melhores parâmetros são: \"\n",
        "      f\"{model_grid_search.best_params_}\")"
      ],
      "metadata": {
        "colab": {
          "base_uri": "https://localhost:8080/"
        },
        "id": "T9ZVdDGfTTF7",
        "outputId": "a79b8eca-f34d-4679-eba0-934b7772ae3e"
      },
      "execution_count": null,
      "outputs": [
        {
          "output_type": "stream",
          "name": "stdout",
          "text": [
            "Os melhores parâmetros são: {'criterion': 'entropy', 'max_depth': 15, 'n_estimators': 20}\n"
          ]
        }
      ]
    },
    {
      "cell_type": "markdown",
      "source": [
        "#### 5.3 Predição com hipermarâmetros ajustados\n",
        "\n",
        "Com o modelo ajustado voltemos às predições."
      ],
      "metadata": {
        "id": "ataXzS9QsI0-"
      }
    },
    {
      "cell_type": "code",
      "source": [
        "# Criação do modelo\n",
        "random_forest = RandomForestClassifier(criterion = 'entropy', n_estimators = 20, max_depth = 15)"
      ],
      "metadata": {
        "id": "_4X3O8-jsNjC"
      },
      "execution_count": null,
      "outputs": []
    },
    {
      "cell_type": "code",
      "source": [
        "# Treinamento\n",
        "model_rf = random_forest.fit(data_over, target_over)"
      ],
      "metadata": {
        "id": "8uQwik0hsXaO"
      },
      "execution_count": null,
      "outputs": []
    },
    {
      "cell_type": "code",
      "source": [
        "# Predição com dados de treino\n",
        "pred_random_forest = model_rf.predict(data_train)\n",
        "\n",
        "# Classification Report\n",
        "print('Classification Report: \\n', classification_report(target_train, pred_random_forest))\n",
        "print(\"-\" * 100)\n",
        "print()\n",
        "print('Accuracy Score: ', accuracy_score(target_train, pred_random_forest))\n",
        "print(\"-\" * 100)\n",
        "print()\n",
        "\n",
        "# Matriz de confusão\n",
        "plt.figure(figsize=(8, 8))\n",
        "sns.heatmap(confusion_matrix(target_train, pred_random_forest), annot=True, fmt='g', cmap = 'Greens');"
      ],
      "metadata": {
        "colab": {
          "base_uri": "https://localhost:8080/",
          "height": 743
        },
        "id": "RnZBQcTwZvy1",
        "outputId": "37a63c32-abd5-4ab9-c2f1-b588122fdc4d"
      },
      "execution_count": null,
      "outputs": [
        {
          "output_type": "stream",
          "name": "stdout",
          "text": [
            "Classification Report: \n",
            "               precision    recall  f1-score   support\n",
            "\n",
            "           0       1.00      1.00      1.00    227453\n",
            "           1       0.98      1.00      0.99       392\n",
            "\n",
            "    accuracy                           1.00    227845\n",
            "   macro avg       0.99      1.00      1.00    227845\n",
            "weighted avg       1.00      1.00      1.00    227845\n",
            "\n",
            "----------------------------------------------------------------------------------------------------\n",
            "\n",
            "Accuracy Score:  0.9999736663082358\n",
            "----------------------------------------------------------------------------------------------------\n",
            "\n"
          ]
        },
        {
          "output_type": "display_data",
          "data": {
            "text/plain": [
              "<Figure size 576x576 with 2 Axes>"
            ],
            "image/png": "[encoded data removed]"
          },
          "metadata": {
            "needs_background": "light"
          }
        }
      ]
    },
    {
      "cell_type": "markdown",
      "source": [
        "Houve uma pequena piora no resultado com os próprios dados de treino."
      ],
      "metadata": {
        "id": "OIJ84lYyQAb2"
      }
    },
    {
      "cell_type": "code",
      "source": [
        "# Predição com dados de teste\n",
        "pred_random_forest = model_rf.predict(data_test)\n",
        "\n",
        "# Classification Report\n",
        "print('Classification Report: \\n', classification_report(target_test, pred_random_forest))\n",
        "print(\"-\" * 100)\n",
        "print()\n",
        "print('Accuracy Score: ', accuracy_score(target_test, pred_random_forest))\n",
        "print(\"-\" * 100)\n",
        "print()\n",
        "\n",
        "# Matriz de confusão\n",
        "plt.figure(figsize=(8, 8))\n",
        "sns.heatmap(confusion_matrix(target_test, pred_random_forest), annot=True, fmt='g', cmap = 'Greens');"
      ],
      "metadata": {
        "colab": {
          "base_uri": "https://localhost:8080/",
          "height": 743
        },
        "id": "h13mB9jTsyl2",
        "outputId": "ccab1256-de62-46b2-98c1-acf0e819f2a3"
      },
      "execution_count": null,
      "outputs": [
        {
          "output_type": "stream",
          "name": "stdout",
          "text": [
            "Classification Report: \n",
            "               precision    recall  f1-score   support\n",
            "\n",
            "           0       1.00      1.00      1.00     56862\n",
            "           1       0.89      0.82      0.85       100\n",
            "\n",
            "    accuracy                           1.00     56962\n",
            "   macro avg       0.95      0.91      0.93     56962\n",
            "weighted avg       1.00      1.00      1.00     56962\n",
            "\n",
            "----------------------------------------------------------------------------------------------------\n",
            "\n",
            "Accuracy Score:  0.9995084442259752\n",
            "----------------------------------------------------------------------------------------------------\n",
            "\n"
          ]
        },
        {
          "output_type": "display_data",
          "data": {
            "text/plain": [
              "<Figure size 576x576 with 2 Axes>"
            ],
            "image/png": "[encoded data removed]"
          },
          "metadata": {
            "needs_background": "light"
          }
        }
      ]
    },
    {
      "cell_type": "markdown",
      "source": [
        "Basicamente obtivemos o mesmo resultado sem ajuste de parâmetros, porém limitando o tamanho das árvores de decisão no modelo Random Forest o desempenho computacional torna-se melhor."
      ],
      "metadata": {
        "id": "NsAroDQhQiGe"
      }
    },
    {
      "cell_type": "markdown",
      "source": [
        "## 6 - Conclusão\n",
        "\n",
        "Usar **Machine Learning** para prevenção de fraudes com cartões de crédito se mostra muito vantajoso para as administradoras. Nosso modelo conseguiu um **f1-score** médio de 93%. Como expliquei durante o trabalho, é difícil encontrar o ponto ideal entre bloquear uma transação fraudulenta ou deixar de efetuar uma transação legal. Isso envolve alguns fatores como risco / retorno, questões de imagem e satisfação de clientes. \n",
        "\n",
        "Procurei demonstrar neste trabalho algumas técnicas que podem ser utilizadas e o desempenho obtido foi satisfatório."
      ],
      "metadata": {
        "id": "O7UIfyqJTcv-"
      }
    },
    {
      "cell_type": "markdown",
      "source": [
        "## 7 - Referências\n",
        "\n",
        "\n",
        "[1] https://idec.org.br/idec-na-imprensa/brasil-tem-36-fraudes-com-cartao-de-credito-por-minuto-na-internet?utm_campaign=&utm_adgroup=&creative=&keyword=&gclid=CjwKCAjwxOCRBhA8EiwA0X8hiyPYzaZ85YE85SrLJYDMj7p7DQ_qzXGHWICciZzaPrXTZkjpHwuKyhoCa78QAvD_BwE. Acessado em 21/03/2022\n",
        "\n",
        "[2] https://olhardigital.com.br/2021/04/06/internet-e-redes-sociais/operacoes-com-cartoes-de-credito-correspondem-a-26-das-fraudes-digitais-no-brasil. Acessado em 21/03/2022\n",
        "\n",
        "[3] https://pt.wikipedia.org/wiki/An%C3%A1lise_de_componentes_principais. Acessado em 28/03/2022\n",
        "\n",
        "[4] https://medium.com/as-m%C3%A1quinas-que-pensam/m%C3%A9tricas-comuns-em-machine-learning-como-analisar-a-qualidade-de-chat-bots-inteligentes-m%C3%A9tricas-1ba580d7cc96. Acessado em 29/03/2022"
      ],
      "metadata": {
        "id": "myshBanylJjn"
      }
    }
  ],
  "metadata": {
    "colab": {
      "collapsed_sections": [],
      "name": "Detecção de Fraude em Cartões de Crédito.ipynb",
      "toc_visible": true,
      "provenance": []
    },
    "kernelspec": {
      "display_name": "Python 3",
      "name": "python3"
    },
    "language_info": {
      "name": "python"
    }
  },
  "nbformat": 4,
  "nbformat_minor": 0
}